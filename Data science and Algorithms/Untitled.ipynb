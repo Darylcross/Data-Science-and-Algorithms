{
 "cells": [
  {
   "cell_type": "code",
   "execution_count": 1,
   "id": "565d0899",
   "metadata": {},
   "outputs": [
    {
     "data": {
      "text/plain": [
       "'a'"
      ]
     },
     "execution_count": 1,
     "metadata": {},
     "output_type": "execute_result"
    }
   ],
   "source": [
    "myString=\"MustafaKarakaya\"\n",
    "myString[-1]"
   ]
  },
  {
   "cell_type": "code",
   "execution_count": 2,
   "id": "17448343",
   "metadata": {},
   "outputs": [
    {
     "data": {
      "text/plain": [
       "'a'"
      ]
     },
     "execution_count": 2,
     "metadata": {},
     "output_type": "execute_result"
    }
   ],
   "source": [
    "myString[len(myString)-1]"
   ]
  },
  {
   "cell_type": "code",
   "execution_count": 3,
   "id": "b325c939",
   "metadata": {},
   "outputs": [
    {
     "data": {
      "text/plain": [
       "'MustafaKarakayaMustafaKarakaya'"
      ]
     },
     "execution_count": 3,
     "metadata": {},
     "output_type": "execute_result"
    }
   ],
   "source": [
    "myString*2"
   ]
  },
  {
   "cell_type": "code",
   "execution_count": 4,
   "id": "57812369",
   "metadata": {},
   "outputs": [],
   "source": [
    "#slicing"
   ]
  },
  {
   "cell_type": "code",
   "execution_count": 8,
   "id": "69e11fcb",
   "metadata": {},
   "outputs": [
    {
     "data": {
      "text/plain": [
       "'MustafaKarakaya'"
      ]
     },
     "execution_count": 8,
     "metadata": {},
     "output_type": "execute_result"
    }
   ],
   "source": [
    "myString"
   ]
  },
  {
   "cell_type": "code",
   "execution_count": 10,
   "id": "74a61444",
   "metadata": {},
   "outputs": [
    {
     "data": {
      "text/plain": [
       "'tafaKarakaya'"
      ]
     },
     "execution_count": 10,
     "metadata": {},
     "output_type": "execute_result"
    }
   ],
   "source": [
    "myString[3:]#starting index"
   ]
  },
  {
   "cell_type": "code",
   "execution_count": 12,
   "id": "78ec267a",
   "metadata": {},
   "outputs": [
    {
     "data": {
      "text/plain": [
       "'Mus'"
      ]
     },
     "execution_count": 12,
     "metadata": {},
     "output_type": "execute_result"
    }
   ],
   "source": [
    "myString[:3]#stopping index\n"
   ]
  },
  {
   "cell_type": "code",
   "execution_count": 14,
   "id": "d610f3c0",
   "metadata": {},
   "outputs": [
    {
     "data": {
      "text/plain": [
       "'saa'"
      ]
     },
     "execution_count": 14,
     "metadata": {},
     "output_type": "execute_result"
    }
   ],
   "source": [
    "myString[2:8:2]#stepping size kaçar kaçar atlayacağını yazıyorsun"
   ]
  },
  {
   "cell_type": "code",
   "execution_count": 16,
   "id": "40cc1fcd",
   "metadata": {},
   "outputs": [
    {
     "data": {
      "text/plain": [
       "'ayakaraKafatsuM'"
      ]
     },
     "execution_count": 16,
     "metadata": {},
     "output_type": "execute_result"
    }
   ],
   "source": [
    "myString[::-1] #tersten yazdırırır"
   ]
  },
  {
   "cell_type": "code",
   "execution_count": null,
   "id": "cbf82688",
   "metadata": {},
   "outputs": [],
   "source": []
  }
 ],
 "metadata": {
  "kernelspec": {
   "display_name": "Python 3 (ipykernel)",
   "language": "python",
   "name": "python3"
  },
  "language_info": {
   "codemirror_mode": {
    "name": "ipython",
    "version": 3
   },
   "file_extension": ".py",
   "mimetype": "text/x-python",
   "name": "python",
   "nbconvert_exporter": "python",
   "pygments_lexer": "ipython3",
   "version": "3.11.4"
  }
 },
 "nbformat": 4,
 "nbformat_minor": 5
}
