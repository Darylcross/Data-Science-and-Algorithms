{
 "cells": [
  {
   "cell_type": "code",
   "execution_count": 1,
   "id": "4c68583a",
   "metadata": {},
   "outputs": [
    {
     "data": {
      "text/plain": [
       "[8, 9, 10, 11, 12, 13, 14, 15]"
      ]
     },
     "execution_count": 1,
     "metadata": {},
     "output_type": "execute_result"
    }
   ],
   "source": [
    "list(range(8,16))"
   ]
  },
  {
   "cell_type": "code",
   "execution_count": 2,
   "id": "63679617",
   "metadata": {},
   "outputs": [],
   "source": [
    "#enumarate"
   ]
  },
  {
   "cell_type": "code",
   "execution_count": 4,
   "id": "980f8284",
   "metadata": {},
   "outputs": [],
   "source": [
    "myList=list(range(5,15))"
   ]
  },
  {
   "cell_type": "code",
   "execution_count": 5,
   "id": "900635fe",
   "metadata": {},
   "outputs": [
    {
     "name": "stdout",
     "output_type": "stream",
     "text": [
      "[5, 6, 7, 8, 9, 10, 11, 12, 13, 14]\n"
     ]
    }
   ],
   "source": [
    "print(myList\n",
    "     )"
   ]
  },
  {
   "cell_type": "code",
   "execution_count": 6,
   "id": "fe4b4da1",
   "metadata": {},
   "outputs": [],
   "source": [
    "index=0"
   ]
  },
  {
   "cell_type": "code",
   "execution_count": 7,
   "id": "8a04c24c",
   "metadata": {},
   "outputs": [
    {
     "name": "stdout",
     "output_type": "stream",
     "text": [
      "number5 index:0\n",
      "number6 index:1\n",
      "number7 index:2\n",
      "number8 index:3\n",
      "number9 index:4\n",
      "number10 index:5\n",
      "number11 index:6\n",
      "number12 index:7\n",
      "number13 index:8\n",
      "number14 index:9\n"
     ]
    }
   ],
   "source": [
    "for i in myList:\n",
    "    print(f\"number{i} index:{index}\")\n",
    "    index+=1"
   ]
  },
  {
   "cell_type": "code",
   "execution_count": 8,
   "id": "649b0179",
   "metadata": {},
   "outputs": [
    {
     "name": "stdout",
     "output_type": "stream",
     "text": [
      "(0, 5)\n",
      "(1, 6)\n",
      "(2, 7)\n",
      "(3, 8)\n",
      "(4, 9)\n",
      "(5, 10)\n",
      "(6, 11)\n",
      "(7, 12)\n",
      "(8, 13)\n",
      "(9, 14)\n"
     ]
    }
   ],
   "source": [
    "for element in enumerate(myList):\n",
    "    print(element)"
   ]
  },
  {
   "cell_type": "code",
   "execution_count": 9,
   "id": "0ad88340",
   "metadata": {},
   "outputs": [],
   "source": [
    "#one liner"
   ]
  },
  {
   "cell_type": "code",
   "execution_count": 10,
   "id": "98f7cdb2",
   "metadata": {},
   "outputs": [],
   "source": [
    "myString=\"mustafakarakaya\""
   ]
  },
  {
   "cell_type": "code",
   "execution_count": 11,
   "id": "3d90cefc",
   "metadata": {},
   "outputs": [],
   "source": [
    "newList=[element for element in myString]"
   ]
  },
  {
   "cell_type": "code",
   "execution_count": 12,
   "id": "1a274c7c",
   "metadata": {},
   "outputs": [
    {
     "data": {
      "text/plain": [
       "['m', 'u', 's', 't', 'a', 'f', 'a', 'k', 'a', 'r', 'a', 'k', 'a', 'y', 'a']"
      ]
     },
     "execution_count": 12,
     "metadata": {},
     "output_type": "execute_result"
    }
   ],
   "source": [
    "newList"
   ]
  },
  {
   "cell_type": "code",
   "execution_count": null,
   "id": "0ca94755",
   "metadata": {},
   "outputs": [],
   "source": []
  }
 ],
 "metadata": {
  "kernelspec": {
   "display_name": "Python 3 (ipykernel)",
   "language": "python",
   "name": "python3"
  },
  "language_info": {
   "codemirror_mode": {
    "name": "ipython",
    "version": 3
   },
   "file_extension": ".py",
   "mimetype": "text/x-python",
   "name": "python",
   "nbconvert_exporter": "python",
   "pygments_lexer": "ipython3",
   "version": "3.11.4"
  }
 },
 "nbformat": 4,
 "nbformat_minor": 5
}
