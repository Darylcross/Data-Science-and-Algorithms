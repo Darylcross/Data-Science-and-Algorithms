{
 "cells": [
  {
   "cell_type": "code",
   "execution_count": 1,
   "id": "27e046cd",
   "metadata": {},
   "outputs": [
    {
     "data": {
      "text/plain": [
       "'a'"
      ]
     },
     "execution_count": 1,
     "metadata": {},
     "output_type": "execute_result"
    }
   ],
   "source": [
    "myString=\"MustafaKarakaya\"\n",
    "myString[-1]"
   ]
  },
  {
   "cell_type": "code",
   "execution_count": 2,
   "id": "e8b369ec",
   "metadata": {},
   "outputs": [
    {
     "data": {
      "text/plain": [
       "'a'"
      ]
     },
     "execution_count": 2,
     "metadata": {},
     "output_type": "execute_result"
    }
   ],
   "source": [
    "myString[len(myString)-1]"
   ]
  },
  {
   "cell_type": "code",
   "execution_count": 3,
   "id": "2ed23fb1",
   "metadata": {},
   "outputs": [
    {
     "data": {
      "text/plain": [
       "'MustafaKarakayaMustafaKarakaya'"
      ]
     },
     "execution_count": 3,
     "metadata": {},
     "output_type": "execute_result"
    }
   ],
   "source": [
    "myString*2"
   ]
  },
  {
   "cell_type": "code",
   "execution_count": 4,
   "id": "8d9cbf7e",
   "metadata": {},
   "outputs": [],
   "source": [
    "#slicing"
   ]
  },
  {
   "cell_type": "code",
   "execution_count": 8,
   "id": "6577acbb",
   "metadata": {},
   "outputs": [
    {
     "data": {
      "text/plain": [
       "'MustafaKarakaya'"
      ]
     },
     "execution_count": 8,
     "metadata": {},
     "output_type": "execute_result"
    }
   ],
   "source": [
    "myString"
   ]
  },
  {
   "cell_type": "code",
   "execution_count": 10,
   "id": "3685917b",
   "metadata": {},
   "outputs": [
    {
     "data": {
      "text/plain": [
       "'tafaKarakaya'"
      ]
     },
     "execution_count": 10,
     "metadata": {},
     "output_type": "execute_result"
    }
   ],
   "source": [
    "myString[3:]#starting index"
   ]
  },
  {
   "cell_type": "code",
   "execution_count": 12,
   "id": "1c323e2e",
   "metadata": {},
   "outputs": [
    {
     "data": {
      "text/plain": [
       "'Mus'"
      ]
     },
     "execution_count": 12,
     "metadata": {},
     "output_type": "execute_result"
    }
   ],
   "source": [
    "myString[:3]#stopping index\n"
   ]
  },
  {
   "cell_type": "code",
   "execution_count": 14,
   "id": "cc096bf1",
   "metadata": {},
   "outputs": [
    {
     "data": {
      "text/plain": [
       "'saa'"
      ]
     },
     "execution_count": 14,
     "metadata": {},
     "output_type": "execute_result"
    }
   ],
   "source": [
    "myString[2:8:2]#stepping size kaçar kaçar atlayacağını yazıyorsun"
   ]
  },
  {
   "cell_type": "code",
   "execution_count": 16,
   "id": "e54bfe1b",
   "metadata": {},
   "outputs": [
    {
     "data": {
      "text/plain": [
       "'ayakaraKafatsuM'"
      ]
     },
     "execution_count": 16,
     "metadata": {},
     "output_type": "execute_result"
    }
   ],
   "source": [
    "myString[::-1] #tersten yazdırırır"
   ]
  },
  {
   "cell_type": "code",
   "execution_count": null,
   "id": "47971b65",
   "metadata": {},
   "outputs": [],
   "source": []
  }
 ],
 "metadata": {
  "kernelspec": {
   "display_name": "Python 3 (ipykernel)",
   "language": "python",
   "name": "python3"
  },
  "language_info": {
   "codemirror_mode": {
    "name": "ipython",
    "version": 3
   },
   "file_extension": ".py",
   "mimetype": "text/x-python",
   "name": "python",
   "nbconvert_exporter": "python",
   "pygments_lexer": "ipython3",
   "version": "3.11.4"
  }
 },
 "nbformat": 4,
 "nbformat_minor": 5
}
