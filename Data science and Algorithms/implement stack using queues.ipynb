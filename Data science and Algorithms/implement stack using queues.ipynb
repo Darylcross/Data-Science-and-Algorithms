{
 "cells": [
  {
   "cell_type": "code",
   "execution_count": 2,
   "id": "ee068456",
   "metadata": {},
   "outputs": [],
   "source": [
    "class Queue():\n",
    "    def __init__(self):\n",
    "        self.elements=[]\n",
    "    def push(self,x):#enqueue\n",
    "        return self.elements.append(x)\n",
    "    def pop(self):#dequeue\n",
    "        if not self.isEmpty():\n",
    "            return self.elements.pop(0)\n",
    "        else:\n",
    "            print(\"Queue is empty\")\n",
    "            \n",
    "    def top(self):\n",
    "        return (len(self.elements)-1)\n",
    "    def top(self):\n",
    "        if not self.isEmpty():\n",
    "            return self.elements[0]\n",
    "        else:\n",
    "            print(\"Queue is empty.\")\n",
    "            return None\n",
    "    \n",
    "    def empty(self):\n",
    "        return len(self.elements) == 0\n",
    "class Stack(Queue):\n",
    "    \n",
    "        \n",
    "    def pop(self):\n",
    "        if not self.isEmpty():\n",
    "            return self.elements.pop(0)\n",
    "        else:\n",
    "            print(\"Queue is empty\")\n",
    "\n",
    "\n",
    "\n",
    "\n",
    "\n",
    "\n"
   ]
  },
  {
   "cell_type": "code",
   "execution_count": 3,
   "id": "996af3b9",
   "metadata": {},
   "outputs": [],
   "source": [
    "class Stack(Queue):\n",
    "    \n",
    "        \n",
    "    def pop(self):\n",
    "        if not self.isEmpty():\n",
    "            return self.elements.pop(0)\n",
    "        else:\n",
    "            print(\"Queue is empty\")"
   ]
  },
  {
   "cell_type": "code",
   "execution_count": 5,
   "id": "91846fa9",
   "metadata": {},
   "outputs": [],
   "source": [
    "stack=Stack()\n",
    "stack.enqueue(12)"
   ]
  },
  {
   "cell_type": "code",
   "execution_count": 6,
   "id": "1c69f333",
   "metadata": {},
   "outputs": [],
   "source": [
    "stack.enqueue(13)"
   ]
  },
  {
   "cell_type": "code",
   "execution_count": 7,
   "id": "df2e66f4",
   "metadata": {},
   "outputs": [
    {
     "data": {
      "text/plain": [
       "False"
      ]
     },
     "execution_count": 7,
     "metadata": {},
     "output_type": "execute_result"
    }
   ],
   "source": [
    "stack.isEmpty()"
   ]
  },
  {
   "cell_type": "code",
   "execution_count": 1,
   "id": "f41f887e",
   "metadata": {},
   "outputs": [],
   "source": [
    "class MyStack():\n",
    "\n",
    "    def __init__(self):\n",
    "        self.myQueue=deque()\n",
    "        \n",
    "        \n",
    "\n",
    "    def push(self, x):\n",
    "        self.myQueue.append(x)\n",
    "        \n",
    "        \n",
    "\n",
    "    def pop(self):\n",
    "        for i in range(len(self.myQueue)-1):\n",
    "            self.myQueue.append(self.myQueue.popleft())\n",
    "        return self.myQueue.popleft()\n",
    "    \n",
    "        \n",
    "\n",
    "    def top(self):\n",
    "        return self.myQueue[-1]\n",
    "    \n",
    "\n",
    "    def empty(self):\n",
    "        return len(self.myQueue)==0\n",
    "        "
   ]
  },
  {
   "cell_type": "code",
   "execution_count": null,
   "id": "b775b0b9",
   "metadata": {},
   "outputs": [],
   "source": []
  }
 ],
 "metadata": {
  "kernelspec": {
   "display_name": "Python 3 (ipykernel)",
   "language": "python",
   "name": "python3"
  },
  "language_info": {
   "codemirror_mode": {
    "name": "ipython",
    "version": 3
   },
   "file_extension": ".py",
   "mimetype": "text/x-python",
   "name": "python",
   "nbconvert_exporter": "python",
   "pygments_lexer": "ipython3",
   "version": "3.11.4"
  }
 },
 "nbformat": 4,
 "nbformat_minor": 5
}
