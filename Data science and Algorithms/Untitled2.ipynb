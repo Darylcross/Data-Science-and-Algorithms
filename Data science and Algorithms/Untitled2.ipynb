{
 "cells": [
  {
   "cell_type": "code",
   "execution_count": 4,
   "id": "3292d8fa",
   "metadata": {},
   "outputs": [],
   "source": [
    "myList=[2,3,4,1,1,1,1,1,5]\n",
    "def findMajority():\n",
    "    numbers={}\n",
    "    result=0\n",
    "    maxNumber=0\n",
    "    \n",
    "    for num in myList:\n",
    "        numbers[num]=1+numbers.get(num,0)\n",
    "        if numbers[num]>maxNumber:\n",
    "            result=num\n",
    "        maxNumber=max(maxNumber,numbers[num])\n",
    "    return result\n",
    "        "
   ]
  },
  {
   "cell_type": "code",
   "execution_count": 5,
   "id": "ca94fcfb",
   "metadata": {},
   "outputs": [
    {
     "data": {
      "text/plain": [
       "1"
      ]
     },
     "execution_count": 5,
     "metadata": {},
     "output_type": "execute_result"
    }
   ],
   "source": [
    "findMajority()"
   ]
  },
  {
   "cell_type": "code",
   "execution_count": null,
   "id": "6666229c",
   "metadata": {},
   "outputs": [],
   "source": []
  }
 ],
 "metadata": {
  "kernelspec": {
   "display_name": "Python 3 (ipykernel)",
   "language": "python",
   "name": "python3"
  },
  "language_info": {
   "codemirror_mode": {
    "name": "ipython",
    "version": 3
   },
   "file_extension": ".py",
   "mimetype": "text/x-python",
   "name": "python",
   "nbconvert_exporter": "python",
   "pygments_lexer": "ipython3",
   "version": "3.11.4"
  }
 },
 "nbformat": 4,
 "nbformat_minor": 5
}
