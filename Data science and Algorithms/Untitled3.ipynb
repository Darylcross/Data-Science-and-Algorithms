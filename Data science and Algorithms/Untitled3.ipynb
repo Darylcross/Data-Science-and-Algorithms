{
 "cells": [
  {
   "cell_type": "code",
   "execution_count": 14,
   "id": "0c93e524-3678-426b-9a5f-44c23efcfe58",
   "metadata": {},
   "outputs": [],
   "source": [
    "def search(arr,x):\n",
    "    n=len(arr)\n",
    "    for i in range(0,n):\n",
    "        if (arr[i])==x:\n",
    "            \n",
    "            \n",
    "            print(\"Element is present at index\",result)\n",
    "            return i\n",
    "    return (\"Element is not present in array\")\n",
    "    "
   ]
  },
  {
   "cell_type": "code",
   "execution_count": 15,
   "id": "194b550d-914d-443e-9993-37889923f244",
   "metadata": {},
   "outputs": [],
   "source": [
    "arr=[50,45,2,3.5,3,4,10,40]"
   ]
  },
  {
   "cell_type": "code",
   "execution_count": 16,
   "id": "55a25d78-cdd8-44f7-9771-21e0f548c4bb",
   "metadata": {},
   "outputs": [
    {
     "name": "stdout",
     "output_type": "stream",
     "text": [
      "Element is present at index Element is not present in array\n"
     ]
    }
   ],
   "source": [
    "result=search(arr,10)"
   ]
  },
  {
   "cell_type": "code",
   "execution_count": null,
   "id": "6539dfb5-84ac-48df-9702-b87fb66f0a53",
   "metadata": {},
   "outputs": [],
   "source": []
  }
 ],
 "metadata": {
  "kernelspec": {
   "display_name": "Python 3 (ipykernel)",
   "language": "python",
   "name": "python3"
  },
  "language_info": {
   "codemirror_mode": {
    "name": "ipython",
    "version": 3
   },
   "file_extension": ".py",
   "mimetype": "text/x-python",
   "name": "python",
   "nbconvert_exporter": "python",
   "pygments_lexer": "ipython3",
   "version": "3.11.7"
  }
 },
 "nbformat": 4,
 "nbformat_minor": 5
}
