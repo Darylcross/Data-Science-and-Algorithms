{
 "cells": [
  {
   "cell_type": "code",
   "execution_count": 1,
   "id": "9646f97a-7d3a-4e84-96da-4067a816efec",
   "metadata": {},
   "outputs": [],
   "source": [
    "def my_factorial(n):\n",
    "    if (n==1):\n",
    "        return 1\n",
    "    else:\n",
    "        return n* my_factorial(n-1)"
   ]
  },
  {
   "cell_type": "code",
   "execution_count": 2,
   "id": "0e6cd548-236e-43c4-ab90-9248251c12e8",
   "metadata": {},
   "outputs": [
    {
     "data": {
      "text/plain": [
       "120"
      ]
     },
     "execution_count": 2,
     "metadata": {},
     "output_type": "execute_result"
    }
   ],
   "source": [
    "my_factorial(5)"
   ]
  },
  {
   "cell_type": "code",
   "execution_count": 10,
   "id": "2a8558fa-8188-48b1-84b5-1ff528e8628b",
   "metadata": {},
   "outputs": [],
   "source": [
    "def fib(n):\n",
    "    if n<=0:\n",
    "        return print(\"Yanlış sayı\")\n",
    "    else:\n",
    "    \n",
    "        if n==1 or n==2:\n",
    "            return 1\n",
    "        else:\n",
    "            return fib(n-1)+fib(n-2)"
   ]
  },
  {
   "cell_type": "code",
   "execution_count": 11,
   "id": "4a7f0e42-f399-4497-971e-b4363aacddf6",
   "metadata": {},
   "outputs": [
    {
     "data": {
      "text/plain": [
       "1597"
      ]
     },
     "execution_count": 11,
     "metadata": {},
     "output_type": "execute_result"
    }
   ],
   "source": [
    "fib(17)"
   ]
  },
  {
   "cell_type": "code",
   "execution_count": 12,
   "id": "1b591c59-aac2-49f8-8948-c28535b80b76",
   "metadata": {},
   "outputs": [
    {
     "name": "stdout",
     "output_type": "stream",
     "text": [
      "Yanlış sayı\n"
     ]
    }
   ],
   "source": [
    "fib(-4)"
   ]
  },
  {
   "cell_type": "code",
   "execution_count": 38,
   "id": "4c561ff3-4a66-4fed-bed7-9c09c55a307c",
   "metadata": {},
   "outputs": [],
   "source": [
    "class Stack:\n",
    "    def __init__(self):\n",
    "        self.items = []\n",
    "\n",
    "    def isEmpty(self):\n",
    "         return self.items == []\n",
    "\n",
    "    def push(self, item):\n",
    "        self.items.append(item)\n",
    "\n",
    "    def pop(self):\n",
    "        return self.items.pop()\n",
    "\n",
    "    def top(self): # Exerxise : modify this method so that it says 'stack is empty'\n",
    "        return self.items[len(self.items)-1]\n",
    "\n",
    "    def size(self):\n",
    "        return len(self.items)\n",
    "    \n",
    "    \"\"\"def get_stack(self): # Exerxise : modify this method so that it returns values in reverse order\n",
    "        return self.items\"\"\"\n",
    "    def get_stack(self):\n",
    "        return self.items[::-1]"
   ]
  },
  {
   "cell_type": "code",
   "execution_count": 39,
   "id": "85233bfb-7122-4e22-bce7-690b3589f353",
   "metadata": {},
   "outputs": [],
   "source": [
    "m=Stack()\n"
   ]
  },
  {
   "cell_type": "code",
   "execution_count": 40,
   "id": "4cce4a1f-ad6d-4cfe-9150-0762a2a00446",
   "metadata": {},
   "outputs": [],
   "source": [
    "m.push(2)"
   ]
  },
  {
   "cell_type": "code",
   "execution_count": 41,
   "id": "d0cbe944-f194-4d3d-bae1-83d228defbb3",
   "metadata": {},
   "outputs": [],
   "source": [
    "m.push(3)"
   ]
  },
  {
   "cell_type": "code",
   "execution_count": 42,
   "id": "f6bfb35e-94d3-4a4d-a990-375a10af05ef",
   "metadata": {},
   "outputs": [],
   "source": [
    "m.push(5)"
   ]
  },
  {
   "cell_type": "code",
   "execution_count": 43,
   "id": "5b42f3ff-5e2d-4f4c-b153-ddde3ab94def",
   "metadata": {},
   "outputs": [],
   "source": [
    "m.push(9)"
   ]
  },
  {
   "cell_type": "code",
   "execution_count": 44,
   "id": "0e8d7a18-0350-47a4-b7ef-511cd69c3fd1",
   "metadata": {},
   "outputs": [
    {
     "data": {
      "text/plain": [
       "[9, 5, 3, 2]"
      ]
     },
     "execution_count": 44,
     "metadata": {},
     "output_type": "execute_result"
    }
   ],
   "source": [
    "m.get_stack()"
   ]
  },
  {
   "cell_type": "code",
   "execution_count": 45,
   "id": "d011a29f-b4f6-4bb0-a00f-a5e635ba310d",
   "metadata": {},
   "outputs": [
    {
     "data": {
      "text/plain": [
       "9"
      ]
     },
     "execution_count": 45,
     "metadata": {},
     "output_type": "execute_result"
    }
   ],
   "source": [
    "m.top()"
   ]
  },
  {
   "cell_type": "code",
   "execution_count": 1,
   "id": "27c1a013-3e02-4b4d-aec6-78631347007a",
   "metadata": {},
   "outputs": [],
   "source": [
    "class Node:\n",
    "    def __init__(self,value):\n",
    "        self.value=value\n",
    "        self.right=None\n",
    "        self.left=None\n",
    "\n",
    "class BinarySearchTree:\n",
    "    def __init__(self):\n",
    "        self.root=None\n",
    "    def insert(self,value):\n",
    "        newNode=Node(value)\n",
    "        \n",
    "        if self.root is None:\n",
    "            self.root=newNode\n",
    "            return True\n",
    "        \n",
    "        \n",
    "        tempNode=self.root\n",
    "        while True:\n",
    "            if newNode.value==tempNode.value:\n",
    "                return False\n",
    "            elif newNode.value<tempNode.value:\n",
    "                if tempNode.left is None:\n",
    "                    tempNode.left=newNode\n",
    "                    return True\n",
    "                tempNode=tempNode.left\n",
    "            else:\n",
    "                if tempNode.right is None:\n",
    "                    tempNode.right=newNode\n",
    "                    return True\n",
    "            tempNode=tempNode.right\n",
    "    def contains(self,value):\n",
    "        tempNode=self.root\n",
    "        while tempNode:\n",
    "            if value<tempNode.value:\n",
    "                tempNode=tempNode.left\n",
    "            elif value>tempNode.value:\n",
    "                tempNode=tempNode.right\n",
    "            else:\n",
    "                return True\n",
    "        return False\n",
    "    def minOfNode(self,currentNode):\n",
    "        while currentNode.left:\n",
    "            currentNode=currentNode.left\n",
    "        return currentNode\n",
    "    def maxOfNode(self,currentNode):\n",
    "        while currentNode.right:\n",
    "            currentNode=currentNode.right\n",
    "        return currentNode\n",
    "    "
   ]
  },
  {
   "cell_type": "code",
   "execution_count": 4,
   "id": "adc88ba1-e975-47b7-9bda-ebeff79ec7db",
   "metadata": {},
   "outputs": [
    {
     "data": {
      "text/plain": [
       "True"
      ]
     },
     "execution_count": 4,
     "metadata": {},
     "output_type": "execute_result"
    }
   ],
   "source": [
    "myTree = BinarySearchTree()\n",
    "myTree.insert(10)\n",
    "\n",
    "myTree.insert(10)\n",
    "\n",
    "myTree.insert(8)\n",
    "\n",
    "myTree.insert(20)\n",
    "\n",
    "myTree.insert(25)\n",
    "\n",
    "myTree.insert(16)\n",
    "\n"
   ]
  },
  {
   "cell_type": "code",
   "execution_count": 5,
   "id": "8be82913-6309-4cbb-af8d-d6d926d8249e",
   "metadata": {},
   "outputs": [
    {
     "data": {
      "text/plain": [
       "True"
      ]
     },
     "execution_count": 5,
     "metadata": {},
     "output_type": "execute_result"
    }
   ],
   "source": [
    "\n",
    "\n",
    "myTree.contains(16)\n",
    "\n",
    "\n"
   ]
  },
  {
   "cell_type": "code",
   "execution_count": null,
   "id": "a4d1d384-96dc-41bb-a5c1-ddc06e1c64a9",
   "metadata": {},
   "outputs": [],
   "source": []
  }
 ],
 "metadata": {
  "kernelspec": {
   "display_name": "Python 3 (ipykernel)",
   "language": "python",
   "name": "python3"
  },
  "language_info": {
   "codemirror_mode": {
    "name": "ipython",
    "version": 3
   },
   "file_extension": ".py",
   "mimetype": "text/x-python",
   "name": "python",
   "nbconvert_exporter": "python",
   "pygments_lexer": "ipython3",
   "version": "3.8.10"
  }
 },
 "nbformat": 4,
 "nbformat_minor": 5
}
