{
 "cells": [
  {
   "cell_type": "code",
   "execution_count": 3,
   "id": "1ad17680",
   "metadata": {},
   "outputs": [
    {
     "data": {
      "text/plain": [
       "'\\nDeque()\\naddright()\\naddleft()\\nremoveright()\\nremoveleft()\\nisEmpty()\\nsize()\\n\\n\\n\\n'"
      ]
     },
     "execution_count": 3,
     "metadata": {},
     "output_type": "execute_result"
    }
   ],
   "source": [
    "\"\"\"\n",
    "Deque()\n",
    "addright()\n",
    "addleft()\n",
    "removeright()\n",
    "removeleft()\n",
    "isEmpty()\n",
    "size()\n",
    "\n",
    "\n",
    "\n",
    "\"\"\"\n",
    "\n",
    "\n",
    "#pop istediğimiz indexten eleman siler\n"
   ]
  },
  {
   "cell_type": "code",
   "execution_count": 16,
   "id": "5ddeb602",
   "metadata": {},
   "outputs": [],
   "source": [
    "class Deque():\n",
    "    def __init__(self):\n",
    "        self.elements=[]\n",
    "    \n",
    "    def addRight(self,x):\n",
    "        return self.elements.append(x)\n",
    "    def addLeft(self,x):\n",
    "        return self.elements.insert(0,x)\n",
    "    def removeRight(self):\n",
    "        return self.elements.pop()\n",
    "    \n",
    "    def removeLeft(self):\n",
    "        self.elements.pop(0)\n",
    "    def isEmpty(self):\n",
    "        if len(self.elements)==0:\n",
    "            return True\n",
    "        else:\n",
    "            return False\n",
    "    def size(self):\n",
    "        return len(self.elements)"
   ]
  },
  {
   "cell_type": "code",
   "execution_count": 17,
   "id": "f56c7e27",
   "metadata": {},
   "outputs": [],
   "source": [
    "x=Deque()\n",
    "x.addLeft(12)"
   ]
  },
  {
   "cell_type": "code",
   "execution_count": 18,
   "id": "187a0f42",
   "metadata": {},
   "outputs": [
    {
     "data": {
      "text/plain": [
       "False"
      ]
     },
     "execution_count": 18,
     "metadata": {},
     "output_type": "execute_result"
    }
   ],
   "source": [
    "x.isEmpty()"
   ]
  },
  {
   "cell_type": "code",
   "execution_count": 19,
   "id": "9b77d0c6",
   "metadata": {},
   "outputs": [],
   "source": [
    "x.addRight(11)"
   ]
  },
  {
   "cell_type": "code",
   "execution_count": 20,
   "id": "30c67381",
   "metadata": {},
   "outputs": [
    {
     "data": {
      "text/plain": [
       "2"
      ]
     },
     "execution_count": 20,
     "metadata": {},
     "output_type": "execute_result"
    }
   ],
   "source": [
    "x.size()"
   ]
  },
  {
   "cell_type": "code",
   "execution_count": 21,
   "id": "0ccb24ec",
   "metadata": {},
   "outputs": [],
   "source": [
    "x.removeLeft()"
   ]
  },
  {
   "cell_type": "code",
   "execution_count": null,
   "id": "7289766e",
   "metadata": {},
   "outputs": [],
   "source": []
  }
 ],
 "metadata": {
  "kernelspec": {
   "display_name": "Python 3 (ipykernel)",
   "language": "python",
   "name": "python3"
  },
  "language_info": {
   "codemirror_mode": {
    "name": "ipython",
    "version": 3
   },
   "file_extension": ".py",
   "mimetype": "text/x-python",
   "name": "python",
   "nbconvert_exporter": "python",
   "pygments_lexer": "ipython3",
   "version": "3.11.4"
  }
 },
 "nbformat": 4,
 "nbformat_minor": 5
}
