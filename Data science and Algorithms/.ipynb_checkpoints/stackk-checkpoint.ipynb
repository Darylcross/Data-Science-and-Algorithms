{
 "cells": [
  {
   "cell_type": "code",
   "execution_count": 26,
   "id": "7cdc036a",
   "metadata": {},
   "outputs": [],
   "source": [
    "\"\"\"\n",
    "push (item)\n",
    "pop()\n",
    "showLast()\n",
    "size()\n",
    "isEmpty()\n",
    "\n",
    "\"\"\"\n",
    "class Stack():\n",
    "    def __init__(self):\n",
    "        self.elements=[]\n",
    "        \n",
    "    def isEmpty(self):\n",
    "        return self.elements==[]\n",
    "    def push(self,new):\n",
    "        self.elements.append(new)\n",
    "    def pop(self):\n",
    "        if not self.isEmpty():  \n",
    "            return self.elements.pop()\n",
    "        else:\n",
    "            return None\n",
    "    def showLast(self):\n",
    "        return self.elements[len(self.elements)-1]\n",
    "    def size(self):\n",
    "        return len(self.elements)"
   ]
  },
  {
   "cell_type": "code",
   "execution_count": 27,
   "id": "3f05ef0d",
   "metadata": {},
   "outputs": [],
   "source": [
    "myStack=Stack()"
   ]
  },
  {
   "cell_type": "code",
   "execution_count": 28,
   "id": "c6ec5eca",
   "metadata": {},
   "outputs": [
    {
     "data": {
      "text/plain": [
       "True"
      ]
     },
     "execution_count": 28,
     "metadata": {},
     "output_type": "execute_result"
    }
   ],
   "source": [
    "myStack.isEmpty()"
   ]
  },
  {
   "cell_type": "code",
   "execution_count": 29,
   "id": "6c2d4f0d",
   "metadata": {},
   "outputs": [],
   "source": [
    "myStack.push(15)"
   ]
  },
  {
   "cell_type": "code",
   "execution_count": 30,
   "id": "04c6273a",
   "metadata": {},
   "outputs": [
    {
     "data": {
      "text/plain": [
       "False"
      ]
     },
     "execution_count": 30,
     "metadata": {},
     "output_type": "execute_result"
    }
   ],
   "source": [
    "myStack.isEmpty()"
   ]
  },
  {
   "cell_type": "code",
   "execution_count": 31,
   "id": "4d4eff91",
   "metadata": {},
   "outputs": [],
   "source": [
    "myStack.push(12)"
   ]
  },
  {
   "cell_type": "code",
   "execution_count": 32,
   "id": "eefd0c4f",
   "metadata": {},
   "outputs": [
    {
     "data": {
      "text/plain": [
       "2"
      ]
     },
     "execution_count": 32,
     "metadata": {},
     "output_type": "execute_result"
    }
   ],
   "source": [
    "myStack.size()"
   ]
  },
  {
   "cell_type": "code",
   "execution_count": 33,
   "id": "f38018a2",
   "metadata": {},
   "outputs": [],
   "source": [
    "myStack.push(\"asda\")"
   ]
  },
  {
   "cell_type": "code",
   "execution_count": 34,
   "id": "d3bc7923",
   "metadata": {},
   "outputs": [
    {
     "data": {
      "text/plain": [
       "'asda'"
      ]
     },
     "execution_count": 34,
     "metadata": {},
     "output_type": "execute_result"
    }
   ],
   "source": [
    "myStack.showLast()"
   ]
  },
  {
   "cell_type": "code",
   "execution_count": 35,
   "id": "5beee5a9",
   "metadata": {},
   "outputs": [],
   "source": [
    "secondStack=Stack()"
   ]
  },
  {
   "cell_type": "code",
   "execution_count": 36,
   "id": "71c2ca15",
   "metadata": {},
   "outputs": [
    {
     "data": {
      "text/plain": [
       "True"
      ]
     },
     "execution_count": 36,
     "metadata": {},
     "output_type": "execute_result"
    }
   ],
   "source": [
    "secondStack.isEmpty()"
   ]
  },
  {
   "cell_type": "code",
   "execution_count": 37,
   "id": "894fbd4a",
   "metadata": {},
   "outputs": [],
   "source": [
    "secondStack.push(myStack.pop())"
   ]
  },
  {
   "cell_type": "code",
   "execution_count": 38,
   "id": "121c5efa",
   "metadata": {},
   "outputs": [],
   "source": [
    "#secondStack.showLast()"
   ]
  },
  {
   "cell_type": "code",
   "execution_count": 39,
   "id": "6e21f9be",
   "metadata": {},
   "outputs": [
    {
     "data": {
      "text/plain": [
       "False"
      ]
     },
     "execution_count": 39,
     "metadata": {},
     "output_type": "execute_result"
    }
   ],
   "source": [
    "secondStack.isEmpty()"
   ]
  },
  {
   "cell_type": "code",
   "execution_count": 40,
   "id": "67fd1afa",
   "metadata": {},
   "outputs": [
    {
     "data": {
      "text/plain": [
       "'asda'"
      ]
     },
     "execution_count": 40,
     "metadata": {},
     "output_type": "execute_result"
    }
   ],
   "source": [
    "secondStack.showLast()"
   ]
  },
  {
   "cell_type": "code",
   "execution_count": null,
   "id": "f8b5fbce",
   "metadata": {},
   "outputs": [],
   "source": []
  }
 ],
 "metadata": {
  "kernelspec": {
   "display_name": "Python 3 (ipykernel)",
   "language": "python",
   "name": "python3"
  },
  "language_info": {
   "codemirror_mode": {
    "name": "ipython",
    "version": 3
   },
   "file_extension": ".py",
   "mimetype": "text/x-python",
   "name": "python",
   "nbconvert_exporter": "python",
   "pygments_lexer": "ipython3",
   "version": "3.11.4"
  }
 },
 "nbformat": 4,
 "nbformat_minor": 5
}
