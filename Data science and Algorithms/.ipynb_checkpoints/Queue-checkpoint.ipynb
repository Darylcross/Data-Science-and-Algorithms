{
 "cells": [
  {
   "cell_type": "code",
   "execution_count": 2,
   "id": "5417eb7a",
   "metadata": {},
   "outputs": [],
   "source": [
    "\"\"\"Queue()\n",
    "enqueue(element)---->ekleme\n",
    "dequeue(çıkarma)\n",
    "size()\n",
    "isEmpty()\n",
    "\n",
    "\n",
    "\n",
    "\"\"\"\n",
    "\n",
    "class Queue():\n",
    "    def __init__(self):\n",
    "        self.elements=[]\n",
    "        \n",
    "    def enqueue(self,element):\n",
    "        return self.elements.append(element)\n",
    "    def dequeue(self):\n",
    "        return self.elements.pop(0)\n",
    "    def size(self):\n",
    "        return len(self.elements)\n",
    "    def isEmpty(self):\n",
    "        return self.elements == []\n"
   ]
  },
  {
   "cell_type": "code",
   "execution_count": null,
   "id": "cf7fbe1a",
   "metadata": {},
   "outputs": [],
   "source": []
  }
 ],
 "metadata": {
  "kernelspec": {
   "display_name": "Python 3 (ipykernel)",
   "language": "python",
   "name": "python3"
  },
  "language_info": {
   "codemirror_mode": {
    "name": "ipython",
    "version": 3
   },
   "file_extension": ".py",
   "mimetype": "text/x-python",
   "name": "python",
   "nbconvert_exporter": "python",
   "pygments_lexer": "ipython3",
   "version": "3.11.4"
  }
 },
 "nbformat": 4,
 "nbformat_minor": 5
}
