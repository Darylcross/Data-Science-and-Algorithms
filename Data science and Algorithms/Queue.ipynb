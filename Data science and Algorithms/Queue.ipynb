{
 "cells": [
  {
   "cell_type": "code",
   "execution_count": 2,
   "id": "d01dcb6d",
   "metadata": {},
   "outputs": [],
   "source": [
    "\"\"\"Queue()\n",
    "enqueue(element)---->ekleme\n",
    "dequeue(çıkarma)\n",
    "size()\n",
    "isEmpty()\n",
    "\n",
    "\n",
    "\n",
    "\"\"\"\n",
    "\n",
    "class Queue():\n",
    "    def __init__(self):\n",
    "        self.elements=[]\n",
    "        \n",
    "    def enqueue(self,element):\n",
    "        return self.elements.append(element)\n",
    "    def dequeue(self):\n",
    "        return self.elements.pop(0)\n",
    "    def size(self):\n",
    "        return len(self.elements)\n",
    "    def isEmpty(self):\n",
    "        return self.elements == []\n"
   ]
  },
  {
   "cell_type": "code",
   "execution_count": 3,
   "id": "51cbff0c",
   "metadata": {},
   "outputs": [],
   "source": [
    "myQueue=Queue()"
   ]
  },
  {
   "cell_type": "code",
   "execution_count": 4,
   "id": "d1024177",
   "metadata": {},
   "outputs": [
    {
     "data": {
      "text/plain": [
       "True"
      ]
     },
     "execution_count": 4,
     "metadata": {},
     "output_type": "execute_result"
    }
   ],
   "source": [
    "myQueue.isEmpty()"
   ]
  },
  {
   "cell_type": "code",
   "execution_count": 5,
   "id": "433ea1d9",
   "metadata": {},
   "outputs": [],
   "source": [
    "myQueue.enqueue(12)"
   ]
  },
  {
   "cell_type": "code",
   "execution_count": 6,
   "id": "8acedc42",
   "metadata": {},
   "outputs": [],
   "source": [
    "myQueue.enqueue(13)"
   ]
  },
  {
   "cell_type": "code",
   "execution_count": 7,
   "id": "b1179bff",
   "metadata": {},
   "outputs": [],
   "source": [
    "myQueue.enqueue(14)"
   ]
  },
  {
   "cell_type": "code",
   "execution_count": 8,
   "id": "ac120ca6",
   "metadata": {},
   "outputs": [
    {
     "data": {
      "text/plain": [
       "12"
      ]
     },
     "execution_count": 8,
     "metadata": {},
     "output_type": "execute_result"
    }
   ],
   "source": [
    "myQueue.dequeue()"
   ]
  },
  {
   "cell_type": "code",
   "execution_count": null,
   "id": "deef810f",
   "metadata": {},
   "outputs": [],
   "source": []
  }
 ],
 "metadata": {
  "kernelspec": {
   "display_name": "Python 3 (ipykernel)",
   "language": "python",
   "name": "python3"
  },
  "language_info": {
   "codemirror_mode": {
    "name": "ipython",
    "version": 3
   },
   "file_extension": ".py",
   "mimetype": "text/x-python",
   "name": "python",
   "nbconvert_exporter": "python",
   "pygments_lexer": "ipython3",
   "version": "3.11.4"
  }
 },
 "nbformat": 4,
 "nbformat_minor": 5
}
