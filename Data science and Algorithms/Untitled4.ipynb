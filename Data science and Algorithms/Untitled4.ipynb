{
 "cells": [
  {
   "cell_type": "code",
   "execution_count": 1,
   "id": "75493d45-97a9-4c82-bd2d-5d40e79c1c65",
   "metadata": {},
   "outputs": [],
   "source": [
    "class Node():\n",
    "    def __init__(self,value):\n",
    "        self.value=value\n",
    "        self.nextNode=None\n"
   ]
  },
  {
   "cell_type": "code",
   "execution_count": 3,
   "id": "c6efaa83-31d4-4788-9914-e98f20f1b5d4",
   "metadata": {},
   "outputs": [],
   "source": [
    "first=Node(1)"
   ]
  },
  {
   "cell_type": "code",
   "execution_count": 4,
   "id": "f430e311-af7d-42f2-84c1-c5e4f4ca4c09",
   "metadata": {},
   "outputs": [],
   "source": [
    "second=Node(2)"
   ]
  },
  {
   "cell_type": "code",
   "execution_count": 5,
   "id": "b6b4f493-4381-4031-9765-e9a386d656c7",
   "metadata": {},
   "outputs": [],
   "source": [
    "third=Node(3)"
   ]
  },
  {
   "cell_type": "code",
   "execution_count": 7,
   "id": "9377374f-eac2-456a-b9e3-516aafa71d5f",
   "metadata": {},
   "outputs": [],
   "source": [
    "first.nextNode=second"
   ]
  },
  {
   "cell_type": "code",
   "execution_count": 8,
   "id": "e69a66a0-61ae-4f4c-a407-7ad4fd17e3a2",
   "metadata": {},
   "outputs": [],
   "source": [
    "second.nextNode=third"
   ]
  },
  {
   "cell_type": "code",
   "execution_count": 10,
   "id": "1a4c3e97-be5d-408e-8878-522d04596217",
   "metadata": {},
   "outputs": [
    {
     "name": "stdout",
     "output_type": "stream",
     "text": [
      "2\n"
     ]
    }
   ],
   "source": [
    "print(first.nextNode.value)"
   ]
  },
  {
   "cell_type": "code",
   "execution_count": 22,
   "id": "a80c5902-e563-4ed0-b366-1bc315d395bc",
   "metadata": {},
   "outputs": [],
   "source": [
    "class DoublyNode():\n",
    "    def __init__(self,value):\n",
    "        self.value=value\n",
    "        self.nextNode=None\n",
    "        self.prevNode=None\n",
    "        self.head=None\n",
    "        self.size=0\n",
    "    def isEmpty(self):\n",
    "        if self.size==0:\n",
    "            return \"list is empty\"\n",
    "    def addValue(self,value):\n",
    "        self.value.nextNode=self.head\n",
    "        self.size+=1\n",
    "        self.head=self.value\n",
    "        \n",
    "    "
   ]
  },
  {
   "cell_type": "code",
   "execution_count": 12,
   "id": "d70a0cbd-57fc-4b01-8aac-802739ff9ba8",
   "metadata": {},
   "outputs": [],
   "source": [
    "a=DoublyNode(4)"
   ]
  },
  {
   "cell_type": "code",
   "execution_count": 13,
   "id": "8dced67c-e4cc-4dff-b0c4-3da852086c71",
   "metadata": {},
   "outputs": [],
   "source": [
    "b=DoublyNode(5)"
   ]
  },
  {
   "cell_type": "code",
   "execution_count": 14,
   "id": "161ffcc8-d916-4f99-ad8e-08daee0404b1",
   "metadata": {},
   "outputs": [],
   "source": [
    "c=DoublyNode(6)"
   ]
  },
  {
   "cell_type": "code",
   "execution_count": 15,
   "id": "741e280d-5aff-47d3-bc82-3741977c26a6",
   "metadata": {},
   "outputs": [],
   "source": [
    "b.nextNode=c"
   ]
  },
  {
   "cell_type": "code",
   "execution_count": 16,
   "id": "b7f6a37b-6613-4de0-be15-929c0ce5337b",
   "metadata": {},
   "outputs": [],
   "source": [
    "b.prevNode=a"
   ]
  },
  {
   "cell_type": "code",
   "execution_count": 19,
   "id": "fd908603-a6f9-4390-988d-dc89a0af6c4c",
   "metadata": {},
   "outputs": [],
   "source": [
    "a.nextNode=b"
   ]
  },
  {
   "cell_type": "code",
   "execution_count": 20,
   "id": "712a7004-aa52-470f-8373-d8224e647c26",
   "metadata": {},
   "outputs": [],
   "source": [
    "c.prevNode=b"
   ]
  },
  {
   "cell_type": "code",
   "execution_count": null,
   "id": "42af61c7-5dbb-40b3-8426-129c5fe6fca4",
   "metadata": {},
   "outputs": [],
   "source": []
  }
 ],
 "metadata": {
  "kernelspec": {
   "display_name": "Python 3 (ipykernel)",
   "language": "python",
   "name": "python3"
  },
  "language_info": {
   "codemirror_mode": {
    "name": "ipython",
    "version": 3
   },
   "file_extension": ".py",
   "mimetype": "text/x-python",
   "name": "python",
   "nbconvert_exporter": "python",
   "pygments_lexer": "ipython3",
   "version": "3.8.10"
  }
 },
 "nbformat": 4,
 "nbformat_minor": 5
}
