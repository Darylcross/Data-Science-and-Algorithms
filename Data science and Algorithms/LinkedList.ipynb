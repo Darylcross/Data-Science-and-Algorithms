{
 "cells": [
  {
   "cell_type": "code",
   "execution_count": 1,
   "id": "57243dfb",
   "metadata": {},
   "outputs": [],
   "source": [
    "class Node():\n",
    "    def __init__(self,value):\n",
    "        self.value=value\n",
    "        self.nextNode=None\n",
    "        \n",
    "        "
   ]
  },
  {
   "cell_type": "code",
   "execution_count": 2,
   "id": "cbce5f6d",
   "metadata": {},
   "outputs": [],
   "source": [
    "first=Node(10)\n",
    "second=Node(20)\n",
    "third=Node(30)"
   ]
  },
  {
   "cell_type": "code",
   "execution_count": 3,
   "id": "b3eddf04",
   "metadata": {},
   "outputs": [],
   "source": [
    "first.nextNode=second\n",
    "second.nextNode=third"
   ]
  },
  {
   "cell_type": "code",
   "execution_count": 5,
   "id": "0058f52b",
   "metadata": {},
   "outputs": [
    {
     "data": {
      "text/plain": [
       "20"
      ]
     },
     "execution_count": 5,
     "metadata": {},
     "output_type": "execute_result"
    }
   ],
   "source": [
    "first.nextNode.value"
   ]
  },
  {
   "cell_type": "code",
   "execution_count": 6,
   "id": "c96ff15b",
   "metadata": {},
   "outputs": [
    {
     "data": {
      "text/plain": [
       "30"
      ]
     },
     "execution_count": 6,
     "metadata": {},
     "output_type": "execute_result"
    }
   ],
   "source": [
    "first.nextNode.nextNode.value"
   ]
  },
  {
   "cell_type": "code",
   "execution_count": 11,
   "id": "8111b417",
   "metadata": {},
   "outputs": [],
   "source": [
    "class DoublyNode():\n",
    "    def __init__(self,value):\n",
    "        self.value=value\n",
    "        self.pvalue=None\n",
    "        self.nvalue=None\n",
    "        "
   ]
  },
  {
   "cell_type": "code",
   "execution_count": 12,
   "id": "981ef3dc",
   "metadata": {},
   "outputs": [],
   "source": [
    "first=DoublyNode(10)\n",
    "second=DoublyNode(20)\n",
    "third=DoublyNode(30)"
   ]
  },
  {
   "cell_type": "code",
   "execution_count": 13,
   "id": "29e3de98",
   "metadata": {},
   "outputs": [],
   "source": [
    "second.pvalue=first\n",
    "second.nvalue=third\n"
   ]
  },
  {
   "cell_type": "code",
   "execution_count": 14,
   "id": "885bf7ad",
   "metadata": {},
   "outputs": [
    {
     "data": {
      "text/plain": [
       "10"
      ]
     },
     "execution_count": 14,
     "metadata": {},
     "output_type": "execute_result"
    }
   ],
   "source": [
    "second.pvalue.value"
   ]
  },
  {
   "cell_type": "code",
   "execution_count": null,
   "id": "5c71159f",
   "metadata": {},
   "outputs": [],
   "source": []
  }
 ],
 "metadata": {
  "kernelspec": {
   "display_name": "Python 3 (ipykernel)",
   "language": "python",
   "name": "python3"
  },
  "language_info": {
   "codemirror_mode": {
    "name": "ipython",
    "version": 3
   },
   "file_extension": ".py",
   "mimetype": "text/x-python",
   "name": "python",
   "nbconvert_exporter": "python",
   "pygments_lexer": "ipython3",
   "version": "3.11.4"
  }
 },
 "nbformat": 4,
 "nbformat_minor": 5
}
