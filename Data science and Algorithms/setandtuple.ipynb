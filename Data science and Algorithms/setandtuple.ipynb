{
 "cells": [
  {
   "cell_type": "code",
   "execution_count": 1,
   "id": "4ab0cef9",
   "metadata": {},
   "outputs": [
    {
     "name": "stdout",
     "output_type": "stream",
     "text": [
      "{1, 2, 3, 4, 5, 6}\n"
     ]
    }
   ],
   "source": [
    "#{} dict ile aynı şekilde oluşturulur içinde unique elemanlar bulunur\n",
    "myEmptyset=set()\n",
    "myEmptyset={}\n",
    "myEmptyset={1,2,3,4,5,6,3,1,3}\n",
    "print(myEmptyset)"
   ]
  },
  {
   "cell_type": "code",
   "execution_count": 2,
   "id": "b98e81a9",
   "metadata": {},
   "outputs": [],
   "source": [
    "#Tuple listelerden tek farkı değiştirilemez olması \n"
   ]
  },
  {
   "cell_type": "code",
   "execution_count": 3,
   "id": "8c5900b2",
   "metadata": {},
   "outputs": [],
   "source": [
    "myTuple=(1,2,3,4,56,7)"
   ]
  },
  {
   "cell_type": "code",
   "execution_count": 4,
   "id": "16da4b53",
   "metadata": {},
   "outputs": [
    {
     "data": {
      "text/plain": [
       "3"
      ]
     },
     "execution_count": 4,
     "metadata": {},
     "output_type": "execute_result"
    }
   ],
   "source": [
    "myTuple[2]"
   ]
  },
  {
   "cell_type": "code",
   "execution_count": 6,
   "id": "d62b2950",
   "metadata": {},
   "outputs": [
    {
     "data": {
      "text/plain": [
       "2"
      ]
     },
     "execution_count": 6,
     "metadata": {},
     "output_type": "execute_result"
    }
   ],
   "source": [
    "myTuple.index(3)"
   ]
  },
  {
   "cell_type": "code",
   "execution_count": 7,
   "id": "2d153338",
   "metadata": {},
   "outputs": [
    {
     "data": {
      "text/plain": [
       "1"
      ]
     },
     "execution_count": 7,
     "metadata": {},
     "output_type": "execute_result"
    }
   ],
   "source": [
    "myTuple.count(3)"
   ]
  },
  {
   "cell_type": "code",
   "execution_count": 8,
   "id": "276ba9b5",
   "metadata": {},
   "outputs": [],
   "source": [
    "#tuple unpacking <\n",
    "(x,y,z)=(2,3,4)"
   ]
  },
  {
   "cell_type": "code",
   "execution_count": 9,
   "id": "30e7a1c1",
   "metadata": {},
   "outputs": [
    {
     "data": {
      "text/plain": [
       "2"
      ]
     },
     "execution_count": 9,
     "metadata": {},
     "output_type": "execute_result"
    }
   ],
   "source": [
    "x"
   ]
  },
  {
   "cell_type": "code",
   "execution_count": 12,
   "id": "dc48e290",
   "metadata": {},
   "outputs": [
    {
     "name": "stdout",
     "output_type": "stream",
     "text": [
      "Enter age:a\n"
     ]
    }
   ],
   "source": [
    "userAge=input(\"Enter age:\")"
   ]
  },
  {
   "cell_type": "code",
   "execution_count": 13,
   "id": "4c719139",
   "metadata": {},
   "outputs": [
    {
     "name": "stdout",
     "output_type": "stream",
     "text": [
      "You did not enter correctly\n"
     ]
    }
   ],
   "source": [
    "try:\n",
    "    print(int(userAge)*3)\n",
    "except:\n",
    "    print(\"You did not enter correctly\")"
   ]
  },
  {
   "cell_type": "code",
   "execution_count": null,
   "id": "f1180595",
   "metadata": {},
   "outputs": [],
   "source": []
  }
 ],
 "metadata": {
  "kernelspec": {
   "display_name": "Python 3 (ipykernel)",
   "language": "python",
   "name": "python3"
  },
  "language_info": {
   "codemirror_mode": {
    "name": "ipython",
    "version": 3
   },
   "file_extension": ".py",
   "mimetype": "text/x-python",
   "name": "python",
   "nbconvert_exporter": "python",
   "pygments_lexer": "ipython3",
   "version": "3.11.4"
  }
 },
 "nbformat": 4,
 "nbformat_minor": 5
}
