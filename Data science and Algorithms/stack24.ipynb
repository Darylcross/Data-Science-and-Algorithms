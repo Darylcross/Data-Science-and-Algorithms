{
 "cells": [
  {
   "cell_type": "code",
   "execution_count": 1,
   "id": "e0ef125b-7266-410a-a7e5-f0a31152bcf8",
   "metadata": {},
   "outputs": [],
   "source": [
    "#Stack\n"
   ]
  },
  {
   "cell_type": "code",
   "execution_count": 28,
   "id": "ab7731fd-f395-4a1c-9ce8-8fb89b63cf1c",
   "metadata": {},
   "outputs": [],
   "source": [
    "class Stack():\n",
    "    def __init__(self):\n",
    "        self.elements=[]\n",
    "    def isEmpty(self):\n",
    "        return self.elements==[]\n",
    "    def push(self,element):\n",
    "        self.elements.append(element)\n",
    "    def pop(self):\n",
    "        self.elements.pop()\n",
    "    def showLast(self):\n",
    "        return self.elements[len(self.elements)-1]\n",
    "    def size(self):\n",
    "        return len(self.elements)"
   ]
  },
  {
   "cell_type": "code",
   "execution_count": 35,
   "id": "73a5f7f7-9c8a-482f-b12d-3e37f091701b",
   "metadata": {},
   "outputs": [],
   "source": [
    "stack=Stack()"
   ]
  },
  {
   "cell_type": "code",
   "execution_count": 36,
   "id": "aeff016f-92d2-4f9f-a4d5-39a61d46fb8f",
   "metadata": {},
   "outputs": [],
   "source": [
    "stackk=Stack()"
   ]
  },
  {
   "cell_type": "code",
   "execution_count": 37,
   "id": "375969cf-687c-4807-bcea-7751c573f114",
   "metadata": {},
   "outputs": [],
   "source": [
    "stack.push(4)"
   ]
  },
  {
   "cell_type": "code",
   "execution_count": 38,
   "id": "025a99f0-810b-4768-a1c9-04238d545be4",
   "metadata": {},
   "outputs": [],
   "source": [
    "stack.push(41)"
   ]
  },
  {
   "cell_type": "code",
   "execution_count": 39,
   "id": "03572a24-c3c9-4c16-a857-c65b045a85d3",
   "metadata": {},
   "outputs": [],
   "source": [
    "stack.push(411)"
   ]
  },
  {
   "cell_type": "code",
   "execution_count": 40,
   "id": "2b11032e-ac91-4cb6-9c03-cecace5362cf",
   "metadata": {},
   "outputs": [],
   "source": [
    "stackk.push(stack.pop())"
   ]
  },
  {
   "cell_type": "code",
   "execution_count": 41,
   "id": "96c9805a-dae7-4d84-a396-a210fc6f6ead",
   "metadata": {},
   "outputs": [
    {
     "data": {
      "text/plain": [
       "False"
      ]
     },
     "execution_count": 41,
     "metadata": {},
     "output_type": "execute_result"
    }
   ],
   "source": [
    "stackk.isEmpty()"
   ]
  },
  {
   "cell_type": "code",
   "execution_count": 47,
   "id": "18dfa27b-bbea-469e-a9dc-39fc2645e96c",
   "metadata": {},
   "outputs": [
    {
     "name": "stdout",
     "output_type": "stream",
     "text": [
      "None\n"
     ]
    }
   ],
   "source": [
    "print(stackk.showLast())"
   ]
  },
  {
   "cell_type": "code",
   "execution_count": 45,
   "id": "b42fcb75-3c82-45ec-8b83-28b96146f461",
   "metadata": {},
   "outputs": [
    {
     "data": {
      "text/plain": [
       "1"
      ]
     },
     "execution_count": 45,
     "metadata": {},
     "output_type": "execute_result"
    }
   ],
   "source": [
    "stackk.size()"
   ]
  },
  {
   "cell_type": "code",
   "execution_count": 46,
   "id": "d2bf66b5-ed12-4d59-83d2-0da5fdf385ea",
   "metadata": {},
   "outputs": [
    {
     "data": {
      "text/plain": [
       "2"
      ]
     },
     "execution_count": 46,
     "metadata": {},
     "output_type": "execute_result"
    }
   ],
   "source": [
    "stack.size()"
   ]
  },
  {
   "cell_type": "code",
   "execution_count": null,
   "id": "979c878a-154d-4850-b894-6cc373882178",
   "metadata": {},
   "outputs": [],
   "source": []
  }
 ],
 "metadata": {
  "kernelspec": {
   "display_name": "Python 3 (ipykernel)",
   "language": "python",
   "name": "python3"
  },
  "language_info": {
   "codemirror_mode": {
    "name": "ipython",
    "version": 3
   },
   "file_extension": ".py",
   "mimetype": "text/x-python",
   "name": "python",
   "nbconvert_exporter": "python",
   "pygments_lexer": "ipython3",
   "version": "3.8.10"
  }
 },
 "nbformat": 4,
 "nbformat_minor": 5
}
