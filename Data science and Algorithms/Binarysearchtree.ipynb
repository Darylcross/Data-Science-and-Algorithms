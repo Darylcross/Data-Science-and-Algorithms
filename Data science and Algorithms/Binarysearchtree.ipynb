{
 "cells": [
  {
   "cell_type": "code",
   "execution_count": 9,
   "id": "541258bc-789f-4a95-a3a9-5f20de5b697d",
   "metadata": {},
   "outputs": [],
   "source": [
    "class Node:\n",
    "    def __init__(self,value):\n",
    "        self.value=value\n",
    "        self.left=None\n",
    "        self.right=None"
   ]
  },
  {
   "cell_type": "code",
   "execution_count": 21,
   "id": "e9384002-3145-40c2-9b4c-9121ead154b6",
   "metadata": {},
   "outputs": [],
   "source": [
    "class BinarySearchTree:\n",
    "    def __init__(self):\n",
    "        self.root=None\n",
    "    def insert(self,value):\n",
    "        newNode=Node(value)\n",
    "        if self.root is None:\n",
    "            self.root=newNode\n",
    "            return True\n",
    "\n",
    "        tempNode=self.root\n",
    "        while True:\n",
    "            if newNode.value==tempNode.value:\n",
    "                return False\n",
    "            if newNode.value<tempNode.value:\n",
    "                if tempNode.left is None:\n",
    "                    tempNode.left=newNode\n",
    "                    return True\n",
    "                tempNode=tempNode.left\n",
    "            else:\n",
    "                if tempNode.right is None:\n",
    "                    tempNode.right=newNode\n",
    "                    return True\n",
    "                tempNode=tempNode.right\n",
    "\n",
    "    def contains(self,value):\n",
    "        tempNode=self.root\n",
    "        while tempNode:\n",
    "            if value<tempNode.value:\n",
    "                tempNode=tempNode.left\n",
    "            elif value>tempNode.value:\n",
    "                tempNode=tempNode.right\n",
    "            else:\n",
    "                return True\n",
    "        return False\n",
    "\n",
    "    def minOfNode(self,currentNode):\n",
    "        while currentNode.left:\n",
    "            currentNode=currentNode.left\n",
    "        return currentNode\n",
    "    def maxOfNode(self,currentNode):\n",
    "        while currentNode.right:\n",
    "            currentNode=currentNode.right\n",
    "        return currentNode\n",
    "        \n",
    "                "
   ]
  },
  {
   "cell_type": "code",
   "execution_count": 22,
   "id": "9052efe4-9678-40d7-8d56-e6520a37cb33",
   "metadata": {},
   "outputs": [],
   "source": [
    "myTree=BinarySearchTree()"
   ]
  },
  {
   "cell_type": "code",
   "execution_count": 23,
   "id": "0be2666a-556b-458a-85ab-b75157ad0914",
   "metadata": {},
   "outputs": [
    {
     "data": {
      "text/plain": [
       "True"
      ]
     },
     "execution_count": 23,
     "metadata": {},
     "output_type": "execute_result"
    }
   ],
   "source": [
    "myTree.insert(2)"
   ]
  },
  {
   "cell_type": "code",
   "execution_count": 24,
   "id": "f2f99678-d513-4cf6-9374-40a4a495d1fb",
   "metadata": {},
   "outputs": [
    {
     "data": {
      "text/plain": [
       "True"
      ]
     },
     "execution_count": 24,
     "metadata": {},
     "output_type": "execute_result"
    }
   ],
   "source": [
    "myTree.insert(4)"
   ]
  },
  {
   "cell_type": "code",
   "execution_count": 25,
   "id": "6dabb490-881a-4e08-a380-ad261a5102ae",
   "metadata": {},
   "outputs": [
    {
     "data": {
      "text/plain": [
       "True"
      ]
     },
     "execution_count": 25,
     "metadata": {},
     "output_type": "execute_result"
    }
   ],
   "source": [
    "myTree.insert(1)"
   ]
  },
  {
   "cell_type": "code",
   "execution_count": 26,
   "id": "bfb83226-2bd1-4267-8254-2c688e3e7835",
   "metadata": {},
   "outputs": [
    {
     "data": {
      "text/plain": [
       "True"
      ]
     },
     "execution_count": 26,
     "metadata": {},
     "output_type": "execute_result"
    }
   ],
   "source": [
    "myTree.contains(2)"
   ]
  },
  {
   "cell_type": "code",
   "execution_count": 29,
   "id": "1c54fc14-c1da-453c-a084-834a762bdc1c",
   "metadata": {},
   "outputs": [
    {
     "data": {
      "text/plain": [
       "1"
      ]
     },
     "execution_count": 29,
     "metadata": {},
     "output_type": "execute_result"
    }
   ],
   "source": [
    "myTree.minOfNode(myTree.root).value"
   ]
  },
  {
   "cell_type": "code",
   "execution_count": 30,
   "id": "93aed8da-b273-4341-8015-5078e124b5f2",
   "metadata": {},
   "outputs": [
    {
     "data": {
      "text/plain": [
       "4"
      ]
     },
     "execution_count": 30,
     "metadata": {},
     "output_type": "execute_result"
    }
   ],
   "source": [
    "myTree.maxOfNode(myTree.root).value"
   ]
  },
  {
   "cell_type": "code",
   "execution_count": null,
   "id": "b6407cc7-cd7a-46e3-b395-28fcf3afe26e",
   "metadata": {},
   "outputs": [],
   "source": []
  },
  {
   "cell_type": "code",
   "execution_count": null,
   "id": "f4da7889-7510-4785-a9d9-5e24c23f99f3",
   "metadata": {},
   "outputs": [],
   "source": []
  }
 ],
 "metadata": {
  "kernelspec": {
   "display_name": "Python 3 (ipykernel)",
   "language": "python",
   "name": "python3"
  },
  "language_info": {
   "codemirror_mode": {
    "name": "ipython",
    "version": 3
   },
   "file_extension": ".py",
   "mimetype": "text/x-python",
   "name": "python",
   "nbconvert_exporter": "python",
   "pygments_lexer": "ipython3",
   "version": "3.8.10"
  }
 },
 "nbformat": 4,
 "nbformat_minor": 5
}
